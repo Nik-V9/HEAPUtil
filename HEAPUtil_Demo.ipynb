{
  "nbformat": 4,
  "nbformat_minor": 0,
  "metadata": {
    "colab": {
      "name": "HEAPUtil_Demo.ipynb",
      "provenance": [],
      "collapsed_sections": []
    },
    "kernelspec": {
      "name": "python3",
      "display_name": "Python 3"
    },
    "language_info": {
      "name": "python"
    },
    "accelerator": "GPU"
  },
  "cells": [
    {
      "cell_type": "markdown",
      "metadata": {
        "id": "4KXpsvmvlk5Y"
      },
      "source": [
        "# HEAPUtil"
      ]
    },
    {
      "cell_type": "markdown",
      "metadata": {
        "id": "rBnbwTjJ9ppc"
      },
      "source": [
        "Please add the provided Berlin Dataset folder to your Google Drive and mount it to this Colab notebook. \n",
        "\n",
        "Furthermore, change the paths for the below executables accordingly.\n",
        "\n",
        "Please ensure that the Colab notebook runtime is set to GPU."
      ]
    },
    {
      "cell_type": "code",
      "metadata": {
        "id": "_6FJFGJpdrCm"
      },
      "source": [
        "from google.colab import drive\n",
        "drive.mount('/content/drive/')"
      ],
      "execution_count": null,
      "outputs": []
    },
    {
      "cell_type": "code",
      "metadata": {
        "id": "3Kj66V8pZWBB"
      },
      "source": [
        "!git clone https://github.com/Nik-V9/HEAPUtil.git"
      ],
      "execution_count": null,
      "outputs": []
    },
    {
      "cell_type": "code",
      "metadata": {
        "id": "1E8hNf0J8zYK"
      },
      "source": [
        "%cd /content/HEAPUtil"
      ],
      "execution_count": null,
      "outputs": []
    },
    {
      "cell_type": "code",
      "metadata": {
        "id": "gKnLPHwLc5gp"
      },
      "source": [
        "!pip install -q -r requirements.txt"
      ],
      "execution_count": null,
      "outputs": []
    },
    {
      "cell_type": "markdown",
      "metadata": {
        "id": "Or3_bwxU9KNG"
      },
      "source": [
        "## NetVLAD Extractions"
      ]
    },
    {
      "cell_type": "code",
      "metadata": {
        "id": "7Z8_27Tz-Q0j"
      },
      "source": [
        "!python NetVLAD/main.py --resume '/content/drive/MyDrive/QUT-Research/data/NetVLAD/netvlad-checkpoint-cc16' \\\n",
        "--root_dir '/content/drive/MyDrive/QUT-Research/data' --save --save_path '/content/drive/MyDrive/QUT-Research/data/NetVLAD'"
      ],
      "execution_count": null,
      "outputs": []
    },
    {
      "cell_type": "markdown",
      "metadata": {
        "id": "7E6sCv8inr34"
      },
      "source": [
        "## Environment- and Place-Specific Utility"
      ]
    },
    {
      "cell_type": "code",
      "metadata": {
        "id": "WNnDRhoa8csf"
      },
      "source": [
        "!python utility.py --help"
      ],
      "execution_count": null,
      "outputs": []
    },
    {
      "cell_type": "code",
      "metadata": {
        "id": "8AKAJ4hg5uwu"
      },
      "source": [
        "!python utility.py --root_dir '/content/drive/MyDrive/QUT-Research/data' \\\n",
        "--netvlad_extracts_path '/content/drive/MyDrive/QUT-Research/data/NetVLAD' \\\n",
        "--save_path '/content/drive/MyDrive/QUT-Research/data/Utility' \\\n",
        "--save_viz"
      ],
      "execution_count": null,
      "outputs": []
    },
    {
      "cell_type": "markdown",
      "metadata": {
        "id": "_xQaCfvv9qcE"
      },
      "source": [
        "## SuperPoint Extractions"
      ]
    },
    {
      "cell_type": "code",
      "metadata": {
        "id": "AR1WNPX19s7G"
      },
      "source": [
        "!python generate_path_lists.py --root_dir '/content/drive/MyDrive/QUT-Research/data' \\\n",
        "--netvlad_predictions '/content/drive/MyDrive/QUT-Research/data/NetVLAD/netvlad_preds.npy' \\\n",
        "--save_path '/content/drive/MyDrive/QUT-Research/data'"
      ],
      "execution_count": null,
      "outputs": []
    },
    {
      "cell_type": "code",
      "metadata": {
        "id": "Kv-tsssJ8cD5"
      },
      "source": [
        "!python SuperGlue/superpoint_extraction.py --help"
      ],
      "execution_count": null,
      "outputs": []
    },
    {
      "cell_type": "code",
      "metadata": {
        "id": "ZISR1Yyr-N43"
      },
      "source": [
        "!python SuperGlue/superpoint_extraction.py --input_images '/content/drive/MyDrive/QUT-Research/data/q_list.txt' \\\n",
        "--split 'query' \\\n",
        "--input_dir '/content/drive/MyDrive/QUT-Research/data' \\\n",
        "--output_dir '/content/drive/MyDrive/QUT-Research/data/SuperPoint'"
      ],
      "execution_count": null,
      "outputs": []
    },
    {
      "cell_type": "markdown",
      "metadata": {
        "id": "OMtIrO_1is7O"
      },
      "source": [
        "## Local Feature Matching"
      ]
    },
    {
      "cell_type": "code",
      "metadata": {
        "id": "hwFKRuxr8Klo"
      },
      "source": [
        "!python local_feature_matching.py --help"
      ],
      "execution_count": null,
      "outputs": []
    },
    {
      "cell_type": "code",
      "metadata": {
        "id": "5swWpFKEiuwC"
      },
      "source": [
        "!python local_feature_matching.py --input_dir '/content/drive/MyDrive/QUT-Research/data' \\\n",
        "--output_dir '/content/drive/MyDrive/QUT-Research/data/LFM/Utility' \\\n",
        "--netvlad_extracts_path '/content/drive/MyDrive/QUT-Research/data/NetVLAD' \\\n",
        "--superpoint_extracts_path '/content/drive/MyDrive/QUT-Research/data/SuperPoint' \\\n",
        "--utility_path '/content/drive/MyDrive/QUT-Research/data/Utility' \\\n",
        "--es_utility --ps_utility --viz"
      ],
      "execution_count": null,
      "outputs": []
    },
    {
      "cell_type": "markdown",
      "metadata": {
        "id": "_KW8rbkESPWS"
      },
      "source": [
        "## SuperGlue"
      ]
    },
    {
      "cell_type": "code",
      "metadata": {
        "id": "M9lwgExB-gAe"
      },
      "source": [
        "!python superglue_match_pairs.py --help"
      ],
      "execution_count": null,
      "outputs": []
    },
    {
      "cell_type": "code",
      "metadata": {
        "id": "KPDfPtPISReV"
      },
      "source": [
        "!python superglue_match_pairs.py --input_pairs '/content/drive/MyDrive/QUT-Research/data/berlin_netvlad_candidate_list.txt' \\\n",
        "--input_dir '/content/drive/MyDrive/QUT-Research/data' \\\n",
        "--output_dir '/content/drive/MyDrive/QUT-Research/data/SuperGlue/ES_Utility' \\\n",
        "--netvlad_extracts_path '/content/drive/MyDrive/QUT-Research/data/NetVLAD' \\\n",
        "--utility_path '/content/drive/MyDrive/QUT-Research/data/Utility' \\\n",
        "--es_utility"
      ],
      "execution_count": null,
      "outputs": []
    }
  ]
}
